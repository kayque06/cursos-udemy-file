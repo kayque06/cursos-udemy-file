{
 "cells": [
  {
   "cell_type": "markdown",
   "id": "a8382dd8",
   "metadata": {},
   "source": [
    "# AWS GLUE ETL - Observability\n",
    "\n",
    "- A observabilidade no AWS Glue vai muito além de verificar se o job finalizou com sucesso. \n",
    "- Ela permite entender como os recursos foram usados, identificar gargalos de perfomace, reduzir custos desnecessários e aumentar a eficiência das pipelines de dados.\n",
    "\n",
    "- Cada métrica é uma lente sobre um aspecto do job, desde movimentação de dados até consumo de CPU e memória, ajudando engenheirosa \n",
    "ajustar parâmetros de Spark, Glue e Cluster para obter cargas de trabalho mais rápidas e econômicas."
   ]
  },
  {
   "cell_type": "markdown",
   "id": "0abd3648",
   "metadata": {},
   "source": [
    "## 1. ETL Data Movement (bytes)\n"
   ]
  },
  {
   "cell_type": "markdown",
   "id": "3c9cb9fb",
   "metadata": {},
   "source": [
    "### O que é:\n",
    "\n",
    "- Volume de dados lidos, transformados e gravados durante o job."
   ]
  },
  {
   "cell_type": "markdown",
   "id": "cbbf2d33",
   "metadata": {},
   "source": [
    "### Por que é importante:\n",
    "\n",
    "- Indica se o job está movimentando mais dados do que deveria.\n",
    "\n",
    "- Ajuda a identificar casos de falta de particionamento, filtros ineficientes ou joins desnecessários.\n",
    "\n",
    "- Jobs com alto movimento de dados tendem a gerar alto custo e lentidão.}"
   ]
  },
  {
   "cell_type": "markdown",
   "id": "6d1cfcd1",
   "metadata": {},
   "source": [
    "## 2. Data Shuffle Across Executors (bytes)"
   ]
  },
  {
   "cell_type": "markdown",
   "id": "14903bb9",
   "metadata": {},
   "source": [
    "### O que é:\n",
    "\n",
    "- Quantidade de dados redistribuídos entre executores durante operações de shuffle (joins, groupBy, aggregations)."
   ]
  },
  {
   "cell_type": "markdown",
   "id": "bdec7631",
   "metadata": {},
   "source": [
    "### Por que é importante:\n",
    "\n",
    "- Shuffle é uma das operações mais caras no Spark.\n",
    "\n",
    "- Alto shuffle indica joins mal otimizados, skew de dados ou particionamento inadequado.\n",
    "\n",
    "- Monitorar essa métrica ajuda a minimizar custos de rede e disco."
   ]
  },
  {
   "cell_type": "markdown",
   "id": "b9e2654d",
   "metadata": {},
   "source": [
    "## 3. Memory Profile: Drivers and Executors (%)"
   ]
  },
  {
   "cell_type": "markdown",
   "id": "7c8709e0",
   "metadata": {},
   "source": [
    "### O que é:\n",
    "\n",
    "- Uso de memória pelos drivers e executores."
   ]
  },
  {
   "cell_type": "markdown",
   "id": "508098e5",
   "metadata": {},
   "source": [
    "### Por que é importante:\n",
    "\n",
    "- Jobs que estoram memória causam falhas e reinícios. \n",
    "\n",
    "- Ajuda a definir o tamanho ideal de executores (--conf spark.executor.memory).\n",
    "\n",
    "- Permite balancear custo x performance sem alocar memória em excesso."
   ]
  },
  {
   "cell_type": "markdown",
   "id": "1b773a83",
   "metadata": {},
   "source": [
    "## 4. CPU Load (%)\n"
   ]
  },
  {
   "cell_type": "markdown",
   "id": "eeca0a66",
   "metadata": {},
   "source": [
    "### O que é:\n",
    "\n",
    "- Consumo de CPU dos executores e drivers."
   ]
  },
  {
   "cell_type": "markdown",
   "id": "517409a5",
   "metadata": {},
   "source": [
    "### Por que é importante:\n",
    "\n",
    "- CPU constantemente alta: Indica trabalho intensivo de processamento.\n",
    "- CPU constantemente baixa: Pode indicar subutilização de recursos.\n",
    "\n",
    "Ajuda a ajustar o número de workers (DPU allocation) e melhorar o paralelismo."
   ]
  },
  {
   "cell_type": "markdown",
   "id": "0bded9e5",
   "metadata": {},
   "source": [
    "## 5. Job Execution: Active Executors, Completed Stegaes & Maximum Needed Executors"
   ]
  },
  {
   "cell_type": "markdown",
   "id": "a6719e85",
   "metadata": {},
   "source": [
    "### O que é:\n",
    "\n",
    "- Acompanha a execução de stages, quantos executores estão ativos e se foi necessário escalar mais."
   ]
  },
  {
   "cell_type": "markdown",
   "id": "af076ca6",
   "metadata": {},
   "source": [
    "### Por que é importante:\n",
    "\n",
    "- Ajuda a entender o ciclo de vida do job.\n",
    "\n",
    "- Mostra se a configuração inicial de executores é suficiente ou se há under/over-provisiong.\n",
    "\n",
    "- Otimiza o tempo total de execução."
   ]
  },
  {
   "cell_type": "markdown",
   "id": "2e019fb4",
   "metadata": {},
   "source": [
    "## 6. Worker Utilization (%)"
   ]
  },
  {
   "cell_type": "markdown",
   "id": "0e940198",
   "metadata": {},
   "source": [
    "### O que é:\n",
    "\n",
    "- Porcentagem de tempo em que os workers estavam realmente ocupados."
   ]
  },
  {
   "cell_type": "markdown",
   "id": "4d8ad384",
   "metadata": {},
   "source": [
    "### Por que é importante:\n",
    "\n",
    "> - Worker com baixa utilização: Cluster superdimensionado.\n",
    ">\n",
    "> - Worker no limite: Risco de falhas ou gargalos.\n",
    "\n",
    "Dá insigths sobre dimemsionamento ideal de DPUs.\n"
   ]
  },
  {
   "cell_type": "markdown",
   "id": "7819befd",
   "metadata": {},
   "source": [
    "## 7. Data Skewness by job (%)\n"
   ]
  },
  {
   "cell_type": "markdown",
   "id": "030815de",
   "metadata": {},
   "source": [
    "### O que é:\n",
    "\n",
    "- Mede a desproporção de dados entre partições."
   ]
  },
  {
   "cell_type": "markdown",
   "id": "55a51319",
   "metadata": {},
   "source": [
    "### Por que é importante:\n",
    "\n",
    "- Skew causa executores sobrecarregados e stages lentos.\n",
    "\n",
    "- Pode gerar tempo de execução.\n",
    "\n",
    "- Monitorar essa métrica ajuda a aplicartécnicas como salting e reparticionamento inteligente."
   ]
  },
  {
   "cell_type": "markdown",
   "id": "4cd745eb",
   "metadata": {},
   "source": [
    "## Custom Metrics"
   ]
  },
  {
   "cell_type": "markdown",
   "id": "f60b99ac",
   "metadata": {},
   "source": [
    "### Row Coount per Step\n",
    "\n",
    "- Quantidade de Registros em cada step de ETL."
   ]
  },
  {
   "cell_type": "markdown",
   "id": "3bd3a7c2",
   "metadata": {},
   "source": [
    "### Step Execution Time\n",
    "\n",
    "- Tempo Médio em cada step de ETL."
   ]
  },
  {
   "cell_type": "markdown",
   "id": "6b8d7a8f",
   "metadata": {},
   "source": [
    "### Compression Ratio\n",
    "\n",
    "- Taxa de compressão dos dados."
   ]
  },
  {
   "cell_type": "markdown",
   "id": "aec70fd8",
   "metadata": {},
   "source": [
    "### Conclusão \n",
    "\n",
    "> Métricas de observabilidade no AWS Glue não servem apenas para \"monitorar\", mas para guiar decisões de arquitetura, performance e custo.\n",
    ">\n",
    "> Elas ajudam engenheiros a:\n",
    "\n",
    "- Reduzir desperdício de recursos;\n",
    "- Antecipar probleemas de qualidade de dados;\n",
    "- Melhorar SLAs de pipelines críticas;\n",
    "- Trazer visibilidade técnica e de negócio.\n",
    "\n",
    "Alerts Monitoring"
   ]
  },
  {
   "cell_type": "markdown",
   "id": "43ee4531",
   "metadata": {},
   "source": []
  }
 ],
 "metadata": {
  "language_info": {
   "name": "python"
  }
 },
 "nbformat": 4,
 "nbformat_minor": 5
}
