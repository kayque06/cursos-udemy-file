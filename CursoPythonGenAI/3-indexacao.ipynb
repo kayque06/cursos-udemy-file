{
 "cells": [
  {
   "cell_type": "code",
   "execution_count": 1,
   "id": "6a2c94dc",
   "metadata": {},
   "outputs": [],
   "source": [
    "import numpy as np"
   ]
  },
  {
   "cell_type": "code",
   "execution_count": 5,
   "id": "e09df267",
   "metadata": {},
   "outputs": [
    {
     "name": "stdout",
     "output_type": "stream",
     "text": [
      "2\n",
      "(3, 3)\n"
     ]
    }
   ],
   "source": [
    "matriz = np.array([[10, 20, 30],\n",
    "                  [40, 50, 60],\n",
    "                  [70, 80, 90]])\n",
    "\n",
    "print(matriz.ndim)\n",
    "print(matriz.shape)"
   ]
  },
  {
   "cell_type": "code",
   "execution_count": 6,
   "id": "8494a1c3",
   "metadata": {},
   "outputs": [
    {
     "data": {
      "text/plain": [
       "np.int64(60)"
      ]
     },
     "execution_count": 6,
     "metadata": {},
     "output_type": "execute_result"
    }
   ],
   "source": [
    "# Buscar elemento na linha 1 e coluna 2\n",
    "\n",
    "elemento = matriz[1, 2]\n",
    "elemento"
   ]
  },
  {
   "cell_type": "markdown",
   "id": "7a398de0",
   "metadata": {},
   "source": [
    "Obs: Em um matriz a indexação começa com 0 tanto nas linhas como colunas"
   ]
  },
  {
   "cell_type": "code",
   "execution_count": 7,
   "id": "668f9a93",
   "metadata": {},
   "outputs": [
    {
     "data": {
      "text/plain": [
       "array([10, 20, 30])"
      ]
     },
     "execution_count": 7,
     "metadata": {},
     "output_type": "execute_result"
    }
   ],
   "source": [
    "# Pegar dados da primeira linha\n",
    "\n",
    "linha_0 = matriz[0]\n",
    "linha_0"
   ]
  },
  {
   "cell_type": "code",
   "execution_count": 8,
   "id": "11d59919",
   "metadata": {},
   "outputs": [
    {
     "data": {
      "text/plain": [
       "array([20, 50, 80])"
      ]
     },
     "execution_count": 8,
     "metadata": {},
     "output_type": "execute_result"
    }
   ],
   "source": [
    "# Acessando a coluna 1\n",
    "\n",
    "coluna_1 = matriz[:, 1]\n",
    "coluna_1"
   ]
  },
  {
   "cell_type": "code",
   "execution_count": 10,
   "id": "c2c07ab1",
   "metadata": {},
   "outputs": [
    {
     "data": {
      "text/plain": [
       "array([[20, 30],\n",
       "       [50, 60]])"
      ]
     },
     "execution_count": 10,
     "metadata": {},
     "output_type": "execute_result"
    }
   ],
   "source": [
    "# Fatiamento para obter um subArray\n",
    "\n",
    "sub_array = matriz[0:2, 1:3]\n",
    "sub_array"
   ]
  },
  {
   "cell_type": "code",
   "execution_count": 14,
   "id": "93b051a7",
   "metadata": {},
   "outputs": [
    {
     "data": {
      "text/plain": [
       "array([60, 70, 80, 90])"
      ]
     },
     "execution_count": 14,
     "metadata": {},
     "output_type": "execute_result"
    }
   ],
   "source": [
    "# Usando mascara para acessar elementos atraves de condições\n",
    "\n",
    "mascara = matriz > 50\n",
    "mascara\n",
    "\n",
    "elementos_maiores_que_50 = matriz[mascara]\n",
    "elementos_maiores_que_50"
   ]
  },
  {
   "cell_type": "code",
   "execution_count": 16,
   "id": "a82a625a",
   "metadata": {},
   "outputs": [
    {
     "data": {
      "text/plain": [
       "array([[ 10,  20,  30],\n",
       "       [ 40, 100, 100],\n",
       "       [ 70,  80,  90]])"
      ]
     },
     "execution_count": 16,
     "metadata": {},
     "output_type": "execute_result"
    }
   ],
   "source": [
    "# Modificando elementos na Matriz\n",
    "\n",
    "matriz[1, 2] = 100\n",
    "matriz"
   ]
  },
  {
   "cell_type": "code",
   "execution_count": null,
   "id": "282feedb",
   "metadata": {},
   "outputs": [],
   "source": []
  }
 ],
 "metadata": {
  "kernelspec": {
   "display_name": "Python 3",
   "language": "python",
   "name": "python3"
  },
  "language_info": {
   "codemirror_mode": {
    "name": "ipython",
    "version": 3
   },
   "file_extension": ".py",
   "mimetype": "text/x-python",
   "name": "python",
   "nbconvert_exporter": "python",
   "pygments_lexer": "ipython3",
   "version": "3.13.5"
  }
 },
 "nbformat": 4,
 "nbformat_minor": 5
}
