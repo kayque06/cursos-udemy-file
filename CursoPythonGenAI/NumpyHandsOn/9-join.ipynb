{
 "cells": [
  {
   "cell_type": "markdown",
   "id": "af16ff79",
   "metadata": {},
   "source": [
    "## Join - Concatenando com Numpy"
   ]
  },
  {
   "cell_type": "code",
   "execution_count": 1,
   "metadata": {},
   "outputs": [],
   "source": [
    "import numpy as np"
   ]
  },
  {
   "cell_type": "code",
   "execution_count": 2,
   "id": "9d4f2140",
   "metadata": {},
   "outputs": [],
   "source": [
    "# Criando dois arrays 1D\n",
    "array1 = np.array([1, 2, 3, 4])\n",
    "array2 = np.array([5, 6, 7, 8])"
   ]
  },
  {
   "cell_type": "code",
   "execution_count": 9,
   "id": "2aca7c9f",
   "metadata": {},
   "outputs": [
    {
     "data": {
      "text/plain": [
       "array([1, 2, 3, 4, 5, 6, 7, 8])"
      ]
     },
     "execution_count": 9,
     "metadata": {},
     "output_type": "execute_result"
    }
   ],
   "source": [
    "novo_array = np.concatenate((array1, array2))\n",
    "novo_array"
   ]
  },
  {
   "cell_type": "code",
   "execution_count": 8,
   "id": "f4f245b3",
   "metadata": {},
   "outputs": [
    {
     "data": {
      "text/plain": [
       "array([[1, 2, 3, 4],\n",
       "       [5, 6, 7, 8]])"
      ]
     },
     "execution_count": 8,
     "metadata": {},
     "output_type": "execute_result"
    }
   ],
   "source": [
    "novo_array_2d = novo_array.reshape(2, 4)\n",
    "novo_array_2d"
   ]
  },
  {
   "cell_type": "code",
   "execution_count": null,
   "id": "09d65eda",
   "metadata": {},
   "outputs": [],
   "source": [
    "# Criando arrays para nome e notas\n",
    "\n",
    "nomes = np.array ([\"Kayque\", \"Leticia\", \"Luke\"])\n",
    "notaMatematica = np.array([90, 78, 89])\n",
    "notaFisica = np.array([67, 87, 45])"
   ]
  },
  {
   "cell_type": "code",
   "execution_count": 11,
   "id": "77224909",
   "metadata": {},
   "outputs": [
    {
     "data": {
      "text/plain": [
       "array([['Kayque', 'Leticia', 'Luke'],\n",
       "       ['90', '78', '89'],\n",
       "       ['67', '87', '45']], dtype='<U21')"
      ]
     },
     "execution_count": 11,
     "metadata": {},
     "output_type": "execute_result"
    }
   ],
   "source": [
    "# Usando \"np.vstack\" para empilhar verticalmente os dados\n",
    "\n",
    "dados_estudantes = np.vstack((nomes, notaMatematica, notaFisica))\n",
    "dados_estudantes"
   ]
  },
  {
   "cell_type": "code",
   "execution_count": 15,
   "id": "fab49924",
   "metadata": {},
   "outputs": [
    {
     "data": {
      "text/plain": [
       "array([['Kayque', '67', '90'],\n",
       "       ['Leticia', '87', '78'],\n",
       "       ['Luke', '45', '89']], dtype='<U21')"
      ]
     },
     "execution_count": 15,
     "metadata": {},
     "output_type": "execute_result"
    }
   ],
   "source": [
    "# Usando \"column_stack\" para empilhar horizontalmente\n",
    "\n",
    "matriz_notas = np.column_stack((nomes, notaFisica, notaMatematica))\n",
    "matriz_notas"
   ]
  },
  {
   "cell_type": "code",
   "execution_count": null,
   "id": "54284b07",
   "metadata": {},
   "outputs": [],
   "source": []
  }
 ],
 "metadata": {
  "kernelspec": {
   "display_name": "base",
   "language": "python",
   "name": "python3"
  },
  "language_info": {
   "codemirror_mode": {
    "name": "ipython",
    "version": 3
   },
   "file_extension": ".py",
   "mimetype": "text/x-python",
   "name": "python",
   "nbconvert_exporter": "python",
   "pygments_lexer": "ipython3",
   "version": "3.13.5"
  }
 },
 "nbformat": 4,
 "nbformat_minor": 5
}
