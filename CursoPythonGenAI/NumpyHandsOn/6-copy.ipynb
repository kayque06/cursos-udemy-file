{
 "cells": [
  {
   "cell_type": "markdown",
   "id": "fa3e249d",
   "metadata": {},
   "source": [
    "### Copy e View\n",
    "\n",
    "- Uma nova cópia do array é criada em memória. Isso significa que as 2 matrizes (original e a cópia) são independentes uma da outra."
   ]
  },
  {
   "cell_type": "markdown",
   "id": "0e7be3f1",
   "metadata": {},
   "source": [
    "### View \n",
    "\n",
    "- Não é criada em uma nova cópia na memória.\n",
    "- A view compratilha os mesmos dados que o array original."
   ]
  },
  {
   "cell_type": "code",
   "execution_count": 2,
   "id": "b3719eae",
   "metadata": {},
   "outputs": [],
   "source": [
    "import numpy as np"
   ]
  },
  {
   "cell_type": "code",
   "execution_count": 3,
   "id": "699bd9e5",
   "metadata": {},
   "outputs": [
    {
     "data": {
      "text/plain": [
       "array([[1, 2, 3, 4],\n",
       "       [5, 6, 7, 8]])"
      ]
     },
     "execution_count": 3,
     "metadata": {},
     "output_type": "execute_result"
    }
   ],
   "source": [
    "array_original = np.array([[1, 2, 3, 4],\n",
    "                           [5, 6, 7, 8]])\n",
    "array_original"
   ]
  },
  {
   "cell_type": "markdown",
   "id": "a417a7ae",
   "metadata": {},
   "source": [
    "### 1 - Cópia Rasa (View)\n"
   ]
  },
  {
   "cell_type": "code",
   "execution_count": null,
   "id": "51c8eae5",
   "metadata": {},
   "outputs": [
    {
     "data": {
      "text/plain": [
       "array([[6, 7, 8]])"
      ]
     },
     "execution_count": 4,
     "metadata": {},
     "output_type": "execute_result"
    }
   ],
   "source": [
    "array_view = array_original[1:, 1:]\n",
    "\n",
    "array_view"
   ]
  },
  {
   "cell_type": "code",
   "execution_count": 5,
   "id": "83257abe",
   "metadata": {},
   "outputs": [
    {
     "data": {
      "text/plain": [
       "array([[99,  7,  8]])"
      ]
     },
     "execution_count": 5,
     "metadata": {},
     "output_type": "execute_result"
    }
   ],
   "source": [
    "array_view[0, 0] = 99\n",
    "array_view"
   ]
  },
  {
   "cell_type": "code",
   "execution_count": 6,
   "id": "15d9bd5e",
   "metadata": {},
   "outputs": [
    {
     "data": {
      "text/plain": [
       "array([[ 1,  2,  3,  4],\n",
       "       [ 5, 99,  7,  8]])"
      ]
     },
     "execution_count": 6,
     "metadata": {},
     "output_type": "execute_result"
    }
   ],
   "source": [
    "array_original"
   ]
  },
  {
   "cell_type": "markdown",
   "id": "c501134f",
   "metadata": {},
   "source": [
    "### 2 - Cópia Profunda (Copy)"
   ]
  },
  {
   "cell_type": "code",
   "execution_count": null,
   "id": "906e66f1",
   "metadata": {},
   "outputs": [
    {
     "name": "stdout",
     "output_type": "stream",
     "text": [
      "[[1 2 3 4]\n",
      " [5 6 7 8]]\n",
      "[[ 1  2  3  4]\n",
      " [ 5 99  7  8]]\n"
     ]
    }
   ],
   "source": [
    "array_copia = array_original.copy()\n",
    "array_copia[1, 1] = 6\n",
    "\n",
    "print(array_copia)\n",
    "print(array_original)"
   ]
  },
  {
   "cell_type": "code",
   "execution_count": null,
   "id": "bc1166ad",
   "metadata": {},
   "outputs": [],
   "source": []
  }
 ],
 "metadata": {
  "kernelspec": {
   "display_name": "base",
   "language": "python",
   "name": "python3"
  },
  "language_info": {
   "codemirror_mode": {
    "name": "ipython",
    "version": 3
   },
   "file_extension": ".py",
   "mimetype": "text/x-python",
   "name": "python",
   "nbconvert_exporter": "python",
   "pygments_lexer": "ipython3",
   "version": "3.13.5"
  }
 },
 "nbformat": 4,
 "nbformat_minor": 5
}
