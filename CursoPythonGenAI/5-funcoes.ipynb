{
 "cells": [
  {
   "cell_type": "markdown",
   "id": "6c71d8f5",
   "metadata": {},
   "source": [
    "## Funções Universais"
   ]
  },
  {
   "cell_type": "code",
   "execution_count": 1,
   "id": "65c51448",
   "metadata": {},
   "outputs": [],
   "source": [
    "import numpy as np"
   ]
  },
  {
   "cell_type": "code",
   "execution_count": 2,
   "id": "ae758a53",
   "metadata": {},
   "outputs": [
    {
     "data": {
      "text/plain": [
       "array([1, 2, 3, 4, 5])"
      ]
     },
     "execution_count": 2,
     "metadata": {},
     "output_type": "execute_result"
    }
   ],
   "source": [
    "array = np.array([1, 2, 3, 4, 5])\n",
    "array"
   ]
  },
  {
   "cell_type": "code",
   "execution_count": 3,
   "id": "807c975b",
   "metadata": {},
   "outputs": [
    {
     "data": {
      "text/plain": [
       "array([[ 1,  2,  3,  4,  5],\n",
       "       [ 6,  7,  8,  9, 10],\n",
       "       [11, 12, 13, 14, 15],\n",
       "       [16, 17, 18, 19, 20]])"
      ]
     },
     "execution_count": 3,
     "metadata": {},
     "output_type": "execute_result"
    }
   ],
   "source": [
    "matriz = np.array([[1, 2, 3, 4, 5],\n",
    "                   [6, 7, 8, 9, 10],\n",
    "                   [11, 12, 13, 14, 15],\n",
    "                   [16, 17, 18, 19, 20]])\n",
    "matriz"
   ]
  },
  {
   "cell_type": "markdown",
   "id": "6a2d1272",
   "metadata": {},
   "source": [
    "### 1 - Função Adição Numpy (add)\n",
    "\n",
    "- A função 'add' funciona como adição, pois adiciona valor aos elementos do array tanto 1D, 2D e 3D"
   ]
  },
  {
   "cell_type": "code",
   "execution_count": 4,
   "id": "15522dcf",
   "metadata": {},
   "outputs": [],
   "source": [
    "sumArray1D = np.add(array, 10)\n",
    "sumArray2D = np.add(matriz, 10)"
   ]
  },
  {
   "cell_type": "code",
   "execution_count": 5,
   "id": "69b9064f",
   "metadata": {},
   "outputs": [
    {
     "name": "stdout",
     "output_type": "stream",
     "text": [
      "[11 12 13 14 15]\n",
      "[[11 12 13 14 15]\n",
      " [16 17 18 19 20]\n",
      " [21 22 23 24 25]\n",
      " [26 27 28 29 30]]\n"
     ]
    }
   ],
   "source": [
    "print(sumArray1D)\n",
    "print(sumArray2D)"
   ]
  },
  {
   "cell_type": "markdown",
   "id": "ac2e6232",
   "metadata": {},
   "source": [
    "### 2 - Função de Subtração Numpy (subtract)\n",
    "\n",
    "- A função 'subtract' funciona como subtração, pois retira valor aos elementos do array tanto 1D, 2D e 3D"
   ]
  },
  {
   "cell_type": "code",
   "execution_count": 6,
   "id": "9457215d",
   "metadata": {},
   "outputs": [],
   "source": [
    "subtracaoArray1D = np.subtract(sumArray1D, 5)\n",
    "subtracaoArray2D = np.subtract(sumArray2D, 5)"
   ]
  },
  {
   "cell_type": "code",
   "execution_count": 7,
   "id": "42b9eddc",
   "metadata": {},
   "outputs": [
    {
     "name": "stdout",
     "output_type": "stream",
     "text": [
      "[ 6  7  8  9 10]\n",
      "[[ 6  7  8  9 10]\n",
      " [11 12 13 14 15]\n",
      " [16 17 18 19 20]\n",
      " [21 22 23 24 25]]\n"
     ]
    }
   ],
   "source": [
    "print(subtracaoArray1D)\n",
    "print(subtracaoArray2D)"
   ]
  },
  {
   "cell_type": "markdown",
   "id": "9348e225",
   "metadata": {},
   "source": [
    "### 3 - Função de Divisão Numpy (divide)\n",
    "\n",
    "- A função 'divide' funciona como divisão, pois divide valor dos elementos do array tanto 1D, 2D e 3D"
   ]
  },
  {
   "cell_type": "code",
   "execution_count": 8,
   "id": "35bf2c37",
   "metadata": {},
   "outputs": [],
   "source": [
    "divisaoArray1D = np.divide(array, 2)\n",
    "divisaoArray2D = np.divide(matriz, 2)"
   ]
  },
  {
   "cell_type": "code",
   "execution_count": 9,
   "id": "0500c24e",
   "metadata": {},
   "outputs": [
    {
     "name": "stdout",
     "output_type": "stream",
     "text": [
      "[0.5 1.  1.5 2.  2.5]\n",
      "[[ 0.5  1.   1.5  2.   2.5]\n",
      " [ 3.   3.5  4.   4.5  5. ]\n",
      " [ 5.5  6.   6.5  7.   7.5]\n",
      " [ 8.   8.5  9.   9.5 10. ]]\n"
     ]
    }
   ],
   "source": [
    "print(divisaoArray1D)\n",
    "print(divisaoArray2D)"
   ]
  },
  {
   "cell_type": "markdown",
   "id": "9919c694",
   "metadata": {},
   "source": [
    "### 4 - Função de Multiplicação Numpy (multiply)\n",
    "\n",
    "- A função 'multiply' funciona como multiplicação, pois multiplica os valores de cada elemento do array tanto 1D, 2D e 3D"
   ]
  },
  {
   "cell_type": "code",
   "execution_count": 10,
   "id": "7ac99987",
   "metadata": {},
   "outputs": [],
   "source": [
    "multilplicacaoArray1D = np.multiply(array, 10)\n",
    "multilplicacaoArray2D = np.multiply(matriz, 5)"
   ]
  },
  {
   "cell_type": "code",
   "execution_count": 11,
   "id": "47ddaf88",
   "metadata": {},
   "outputs": [
    {
     "name": "stdout",
     "output_type": "stream",
     "text": [
      "[10 20 30 40 50]\n",
      "[[  5  10  15  20  25]\n",
      " [ 30  35  40  45  50]\n",
      " [ 55  60  65  70  75]\n",
      " [ 80  85  90  95 100]]\n"
     ]
    }
   ],
   "source": [
    "print(multilplicacaoArray1D)\n",
    "print(multilplicacaoArray2D)"
   ]
  },
  {
   "cell_type": "markdown",
   "id": "71ba00f5",
   "metadata": {},
   "source": [
    "### 5 - Funções Trigonométricas com Numpy"
   ]
  },
  {
   "cell_type": "code",
   "execution_count": 12,
   "id": "5eddba5a",
   "metadata": {},
   "outputs": [
    {
     "data": {
      "text/plain": [
       "array([ 0.84147098,  0.90929743,  0.14112001, -0.7568025 , -0.95892427])"
      ]
     },
     "execution_count": 12,
     "metadata": {},
     "output_type": "execute_result"
    }
   ],
   "source": [
    "seno = np.sin(array)\n",
    "seno"
   ]
  },
  {
   "cell_type": "code",
   "execution_count": 13,
   "id": "1bb07818",
   "metadata": {},
   "outputs": [
    {
     "data": {
      "text/plain": [
       "array([ 0.54030231, -0.41614684, -0.9899925 , -0.65364362,  0.28366219])"
      ]
     },
     "execution_count": 13,
     "metadata": {},
     "output_type": "execute_result"
    }
   ],
   "source": [
    "cosseno = np.cos(array)\n",
    "cosseno"
   ]
  },
  {
   "cell_type": "markdown",
   "id": "b05c1cfc",
   "metadata": {},
   "source": [
    "### 6 - Funções Estatísticas"
   ]
  },
  {
   "cell_type": "code",
   "execution_count": 14,
   "id": "57180c2a",
   "metadata": {},
   "outputs": [
    {
     "data": {
      "text/plain": [
       "np.float64(3.0)"
      ]
     },
     "execution_count": 14,
     "metadata": {},
     "output_type": "execute_result"
    }
   ],
   "source": [
    "media = np.mean(array)\n",
    "media"
   ]
  },
  {
   "cell_type": "code",
   "execution_count": 15,
   "id": "16cfe07b",
   "metadata": {},
   "outputs": [
    {
     "data": {
      "text/plain": [
       "np.float64(3.0)"
      ]
     },
     "execution_count": 15,
     "metadata": {},
     "output_type": "execute_result"
    }
   ],
   "source": [
    "mediana = np.median(array)\n",
    "mediana"
   ]
  },
  {
   "cell_type": "code",
   "execution_count": 16,
   "id": "2b3259e8",
   "metadata": {},
   "outputs": [
    {
     "data": {
      "text/plain": [
       "np.int64(5)"
      ]
     },
     "execution_count": 16,
     "metadata": {},
     "output_type": "execute_result"
    }
   ],
   "source": [
    "maximo = np.max(array)\n",
    "maximo"
   ]
  },
  {
   "cell_type": "code",
   "execution_count": 17,
   "id": "d6e9dcc6",
   "metadata": {},
   "outputs": [
    {
     "data": {
      "text/plain": [
       "np.float64(1.4142135623730951)"
      ]
     },
     "execution_count": 17,
     "metadata": {},
     "output_type": "execute_result"
    }
   ],
   "source": [
    "desvioPadrao = np.std(array)\n",
    "desvioPadrao"
   ]
  },
  {
   "cell_type": "markdown",
   "id": "89995f11",
   "metadata": {},
   "source": [
    "### 7 - Funções de comparações"
   ]
  },
  {
   "cell_type": "code",
   "execution_count": 18,
   "id": "69237a10",
   "metadata": {},
   "outputs": [
    {
     "data": {
      "text/plain": [
       "array([False, False, False,  True,  True])"
      ]
     },
     "execution_count": 18,
     "metadata": {},
     "output_type": "execute_result"
    }
   ],
   "source": [
    "comparacaoMaoirQue3 = array > 3\n",
    "comparacaoMaoirQue3"
   ]
  },
  {
   "cell_type": "markdown",
   "id": "9a1ea651",
   "metadata": {},
   "source": [
    "### 8 - Combinado funções"
   ]
  },
  {
   "cell_type": "code",
   "execution_count": 19,
   "id": "92c304fc",
   "metadata": {},
   "outputs": [
    {
     "data": {
      "text/plain": [
       "array([ 2.        ,  5.41421356, 10.73205081, 18.        , 27.23606798])"
      ]
     },
     "execution_count": 19,
     "metadata": {},
     "output_type": "execute_result"
    }
   ],
   "source": [
    "resultado = np.sqrt(array) + np.power(array, 2)\n",
    "resultado"
   ]
  },
  {
   "cell_type": "markdown",
   "id": "4f777e24",
   "metadata": {},
   "source": [
    "### 9 - Funções Exponenciais"
   ]
  },
  {
   "cell_type": "code",
   "execution_count": 20,
   "id": "ec5a24ac",
   "metadata": {},
   "outputs": [
    {
     "data": {
      "text/plain": [
       "array([  2.71828183,   7.3890561 ,  20.08553692,  54.59815003,\n",
       "       148.4131591 ])"
      ]
     },
     "execution_count": 20,
     "metadata": {},
     "output_type": "execute_result"
    }
   ],
   "source": [
    "exponencial = np.exp(array)\n",
    "exponencial"
   ]
  },
  {
   "cell_type": "markdown",
   "id": "be280743",
   "metadata": {},
   "source": [
    "### 10 - Funções de Logaritmo"
   ]
  },
  {
   "cell_type": "code",
   "execution_count": 21,
   "id": "db4f6594",
   "metadata": {},
   "outputs": [
    {
     "data": {
      "text/plain": [
       "array([0.        , 0.69314718, 1.09861229, 1.38629436, 1.60943791])"
      ]
     },
     "execution_count": 21,
     "metadata": {},
     "output_type": "execute_result"
    }
   ],
   "source": [
    "logaritmo = np.log(array)\n",
    "logaritmo"
   ]
  },
  {
   "cell_type": "markdown",
   "id": "7a7c47d4",
   "metadata": {},
   "source": [
    "### 11 - Funções de Arredondamento"
   ]
  },
  {
   "cell_type": "code",
   "execution_count": 22,
   "id": "92090761",
   "metadata": {},
   "outputs": [
    {
     "data": {
      "text/plain": [
       "array([0., 1., 2., 2., 2.])"
      ]
     },
     "execution_count": 22,
     "metadata": {},
     "output_type": "execute_result"
    }
   ],
   "source": [
    "arrendodado = np.round(array / 2)\n",
    "arrendodado"
   ]
  },
  {
   "cell_type": "code",
   "execution_count": null,
   "id": "3818afc7",
   "metadata": {},
   "outputs": [],
   "source": []
  }
 ],
 "metadata": {
  "kernelspec": {
   "display_name": "Python 3",
   "language": "python",
   "name": "python3"
  },
  "language_info": {
   "codemirror_mode": {
    "name": "ipython",
    "version": 3
   },
   "file_extension": ".py",
   "mimetype": "text/x-python",
   "name": "python",
   "nbconvert_exporter": "python",
   "pygments_lexer": "ipython3",
   "version": "3.13.5"
  }
 },
 "nbformat": 4,
 "nbformat_minor": 5
}
