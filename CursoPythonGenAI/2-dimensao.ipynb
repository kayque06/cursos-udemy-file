{
 "cells": [
  {
   "cell_type": "markdown",
   "id": "01bd8d57",
   "metadata": {},
   "source": [
    "## Entendendo Dimensões com Numpy"
   ]
  },
  {
   "cell_type": "code",
   "execution_count": 1,
   "id": "38ec73e8",
   "metadata": {},
   "outputs": [],
   "source": [
    "import numpy as np"
   ]
  },
  {
   "cell_type": "code",
   "execution_count": 2,
   "id": "a2105161",
   "metadata": {},
   "outputs": [
    {
     "name": "stdout",
     "output_type": "stream",
     "text": [
      "1\n",
      "(5,)\n"
     ]
    },
    {
     "data": {
      "text/plain": [
       "array([1, 2, 3, 4, 5])"
      ]
     },
     "execution_count": 2,
     "metadata": {},
     "output_type": "execute_result"
    }
   ],
   "source": [
    "array_1d = np.array([1, 2, 3, 4, 5])\n",
    "print(array_1d.ndim) # Número de dimensões\n",
    "print(array_1d.shape) # Formato array\n",
    "array_1d    \n",
    "\n",
    "# Lista de Dados, como séries temporais ou coleções de valores"
   ]
  },
  {
   "cell_type": "code",
   "execution_count": 4,
   "id": "0405041b",
   "metadata": {},
   "outputs": [
    {
     "name": "stdout",
     "output_type": "stream",
     "text": [
      "2\n",
      "(2, 3)\n"
     ]
    },
    {
     "data": {
      "text/plain": [
       "array([[1, 2, 3],\n",
       "       [4, 5, 6]])"
      ]
     },
     "execution_count": 4,
     "metadata": {},
     "output_type": "execute_result"
    }
   ],
   "source": [
    "array_2d = np.array([[1, 2, 3], [4, 5, 6]])\n",
    "print(array_2d.ndim) # Número de dimensões\n",
    "print(array_2d.shape) # Formato do array\n",
    "array_2d\n",
    "\n",
    "# Matrizes, tabelas de dados, imagens em escala de cinza\n"
   ]
  },
  {
   "cell_type": "code",
   "execution_count": null,
   "id": "23af8e90",
   "metadata": {},
   "outputs": [
    {
     "name": "stdout",
     "output_type": "stream",
     "text": [
      "3\n",
      "(1, 4, 3)\n"
     ]
    },
    {
     "data": {
      "text/plain": [
       "array([[[ 1,  2,  3],\n",
       "        [ 4,  5,  6],\n",
       "        [ 7,  8,  9],\n",
       "        [10, 11, 12]]])"
      ]
     },
     "execution_count": 6,
     "metadata": {},
     "output_type": "execute_result"
    }
   ],
   "source": [
    "array_3d = np.array([[[1, 2, 3], [4, 5, 6], [7, 8, 9], [10, 11, 12]]])\n",
    "print(array_3d.ndim) # Número de dimensões\n",
    "print(array_3d.shape) # Formato do array\n",
    "array_3d\n",
    "\n",
    "# Imagens em cores (cada matriz representando um canal de cor, como RGB)"
   ]
  }
 ],
 "metadata": {
  "kernelspec": {
   "display_name": "Python 3",
   "language": "python",
   "name": "python3"
  },
  "language_info": {
   "codemirror_mode": {
    "name": "ipython",
    "version": 3
   },
   "file_extension": ".py",
   "mimetype": "text/x-python",
   "name": "python",
   "nbconvert_exporter": "python",
   "pygments_lexer": "ipython3",
   "version": "3.13.5"
  }
 },
 "nbformat": 4,
 "nbformat_minor": 5
}
